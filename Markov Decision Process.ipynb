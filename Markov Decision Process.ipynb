{
 "cells": [
  {
   "cell_type": "code",
   "execution_count": null,
   "metadata": {},
   "outputs": [],
   "source": [
    "import gym\n",
    "import numpy as np\n",
    "from  matplotlib import pyplot as plt\n",
    "from IPython import display\n",
    "\n",
    "from envs import maze\n",
    "%matplotlib inline\n"
   ]
  },
  {
   "cell_type": "markdown",
   "metadata": {},
   "source": [
    "GYM is a library for reinforcement learning reasearch. It providesus with a simple interface with a large number of task, including -\n",
    "1.  classic control tasks\n",
    "2.  classic video games\n",
    "3.  continous control task\n",
    "4.  robotic arm manipulation\n",
    "\n"
   ]
  }
 ],
 "metadata": {
  "language_info": {
   "name": "python"
  }
 },
 "nbformat": 4,
 "nbformat_minor": 2
}
